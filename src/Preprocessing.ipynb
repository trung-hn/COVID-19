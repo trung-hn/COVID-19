{
 "cells": [
  {
   "cell_type": "code",
   "execution_count": 4,
   "metadata": {},
   "outputs": [],
   "source": [
    "import pandas as pd\n",
    "from Bio import SeqIO\n",
    "from Bio.SeqRecord import SeqRecord\n",
    "import collections\n",
    "from datetime import datetime\n",
    "pd.set_option('display.max_rows', 20)"
   ]
  },
  {
   "cell_type": "markdown",
   "metadata": {},
   "source": [
    "### Read in Metadata"
   ]
  },
  {
   "cell_type": "code",
   "execution_count": 5,
   "metadata": {},
   "outputs": [
    {
     "data": {
      "text/html": [
       "<div>\n",
       "<style scoped>\n",
       "    .dataframe tbody tr th:only-of-type {\n",
       "        vertical-align: middle;\n",
       "    }\n",
       "\n",
       "    .dataframe tbody tr th {\n",
       "        vertical-align: top;\n",
       "    }\n",
       "\n",
       "    .dataframe thead th {\n",
       "        text-align: right;\n",
       "    }\n",
       "</style>\n",
       "<table border=\"1\" class=\"dataframe\">\n",
       "  <thead>\n",
       "    <tr style=\"text-align: right;\">\n",
       "      <th></th>\n",
       "      <th>gisaid_epi_isl</th>\n",
       "      <th>country</th>\n",
       "      <th>age</th>\n",
       "      <th>sex</th>\n",
       "      <th>date_submitted</th>\n",
       "    </tr>\n",
       "  </thead>\n",
       "  <tbody>\n",
       "    <tr>\n",
       "      <th>0</th>\n",
       "      <td>EPI_ISL_418241</td>\n",
       "      <td>Algeria</td>\n",
       "      <td>28</td>\n",
       "      <td>Female</td>\n",
       "      <td>2020-03-29</td>\n",
       "    </tr>\n",
       "    <tr>\n",
       "      <th>1</th>\n",
       "      <td>EPI_ISL_418242</td>\n",
       "      <td>Algeria</td>\n",
       "      <td>87</td>\n",
       "      <td>Male</td>\n",
       "      <td>2020-03-29</td>\n",
       "    </tr>\n",
       "    <tr>\n",
       "      <th>2</th>\n",
       "      <td>EPI_ISL_420037</td>\n",
       "      <td>Algeria</td>\n",
       "      <td>41</td>\n",
       "      <td>Male</td>\n",
       "      <td>2020-04-04</td>\n",
       "    </tr>\n",
       "    <tr>\n",
       "      <th>3</th>\n",
       "      <td>EPI_ISL_413485</td>\n",
       "      <td>China</td>\n",
       "      <td>58</td>\n",
       "      <td>Male</td>\n",
       "      <td>2020-03-05</td>\n",
       "    </tr>\n",
       "    <tr>\n",
       "      <th>4</th>\n",
       "      <td>EPI_ISL_420600</td>\n",
       "      <td>Argentina</td>\n",
       "      <td>51</td>\n",
       "      <td>Male</td>\n",
       "      <td>2020-04-06</td>\n",
       "    </tr>\n",
       "    <tr>\n",
       "      <th>5</th>\n",
       "      <td>EPI_ISL_420599</td>\n",
       "      <td>Argentina</td>\n",
       "      <td>47</td>\n",
       "      <td>Male</td>\n",
       "      <td>2020-04-06</td>\n",
       "    </tr>\n",
       "    <tr>\n",
       "      <th>6</th>\n",
       "      <td>EPI_ISL_420598</td>\n",
       "      <td>Argentina</td>\n",
       "      <td>73</td>\n",
       "      <td>Male</td>\n",
       "      <td>2020-04-06</td>\n",
       "    </tr>\n",
       "    <tr>\n",
       "      <th>7</th>\n",
       "      <td>EPI_ISL_430793</td>\n",
       "      <td>Argentina</td>\n",
       "      <td>40</td>\n",
       "      <td>Male</td>\n",
       "      <td>2020-04-27</td>\n",
       "    </tr>\n",
       "    <tr>\n",
       "      <th>8</th>\n",
       "      <td>EPI_ISL_430794</td>\n",
       "      <td>Argentina</td>\n",
       "      <td>40</td>\n",
       "      <td>Male</td>\n",
       "      <td>2020-04-27</td>\n",
       "    </tr>\n",
       "    <tr>\n",
       "      <th>9</th>\n",
       "      <td>EPI_ISL_430795</td>\n",
       "      <td>Argentina</td>\n",
       "      <td>57</td>\n",
       "      <td>Female</td>\n",
       "      <td>2020-04-27</td>\n",
       "    </tr>\n",
       "    <tr>\n",
       "      <th>...</th>\n",
       "      <td>...</td>\n",
       "      <td>...</td>\n",
       "      <td>...</td>\n",
       "      <td>...</td>\n",
       "      <td>...</td>\n",
       "    </tr>\n",
       "    <tr>\n",
       "      <th>30797</th>\n",
       "      <td>EPI_ISL_402128</td>\n",
       "      <td>China</td>\n",
       "      <td>52</td>\n",
       "      <td>Female</td>\n",
       "      <td>2020-01-18</td>\n",
       "    </tr>\n",
       "    <tr>\n",
       "      <th>30798</th>\n",
       "      <td>EPI_ISL_402129</td>\n",
       "      <td>China</td>\n",
       "      <td>40</td>\n",
       "      <td>Male</td>\n",
       "      <td>2020-01-18</td>\n",
       "    </tr>\n",
       "    <tr>\n",
       "      <th>30799</th>\n",
       "      <td>EPI_ISL_402130</td>\n",
       "      <td>China</td>\n",
       "      <td>56</td>\n",
       "      <td>Male</td>\n",
       "      <td>2020-01-18</td>\n",
       "    </tr>\n",
       "    <tr>\n",
       "      <th>30805</th>\n",
       "      <td>EPI_ISL_421249</td>\n",
       "      <td>China</td>\n",
       "      <td>26</td>\n",
       "      <td>Male</td>\n",
       "      <td>2020-04-07</td>\n",
       "    </tr>\n",
       "    <tr>\n",
       "      <th>30806</th>\n",
       "      <td>EPI_ISL_421260</td>\n",
       "      <td>China</td>\n",
       "      <td>42</td>\n",
       "      <td>Female</td>\n",
       "      <td>2020-04-07</td>\n",
       "    </tr>\n",
       "    <tr>\n",
       "      <th>30807</th>\n",
       "      <td>EPI_ISL_429239</td>\n",
       "      <td>China</td>\n",
       "      <td>16</td>\n",
       "      <td>Female</td>\n",
       "      <td>2020-04-23</td>\n",
       "    </tr>\n",
       "    <tr>\n",
       "      <th>30808</th>\n",
       "      <td>EPI_ISL_408480</td>\n",
       "      <td>China</td>\n",
       "      <td>56</td>\n",
       "      <td>Male</td>\n",
       "      <td>2020-02-09</td>\n",
       "    </tr>\n",
       "    <tr>\n",
       "      <th>30809</th>\n",
       "      <td>EPI_ISL_422425</td>\n",
       "      <td>China</td>\n",
       "      <td>36</td>\n",
       "      <td>Male</td>\n",
       "      <td>2020-04-10</td>\n",
       "    </tr>\n",
       "    <tr>\n",
       "      <th>30810</th>\n",
       "      <td>EPI_ISL_404227</td>\n",
       "      <td>China</td>\n",
       "      <td>46</td>\n",
       "      <td>Male</td>\n",
       "      <td>2020-01-21</td>\n",
       "    </tr>\n",
       "    <tr>\n",
       "      <th>30811</th>\n",
       "      <td>EPI_ISL_404228</td>\n",
       "      <td>China</td>\n",
       "      <td>47</td>\n",
       "      <td>Male</td>\n",
       "      <td>2020-01-21</td>\n",
       "    </tr>\n",
       "  </tbody>\n",
       "</table>\n",
       "<p>11044 rows × 5 columns</p>\n",
       "</div>"
      ],
      "text/plain": [
       "       gisaid_epi_isl    country age     sex date_submitted\n",
       "0      EPI_ISL_418241    Algeria  28  Female     2020-03-29\n",
       "1      EPI_ISL_418242    Algeria  87    Male     2020-03-29\n",
       "2      EPI_ISL_420037    Algeria  41    Male     2020-04-04\n",
       "3      EPI_ISL_413485      China  58    Male     2020-03-05\n",
       "4      EPI_ISL_420600  Argentina  51    Male     2020-04-06\n",
       "5      EPI_ISL_420599  Argentina  47    Male     2020-04-06\n",
       "6      EPI_ISL_420598  Argentina  73    Male     2020-04-06\n",
       "7      EPI_ISL_430793  Argentina  40    Male     2020-04-27\n",
       "8      EPI_ISL_430794  Argentina  40    Male     2020-04-27\n",
       "9      EPI_ISL_430795  Argentina  57  Female     2020-04-27\n",
       "...               ...        ...  ..     ...            ...\n",
       "30797  EPI_ISL_402128      China  52  Female     2020-01-18\n",
       "30798  EPI_ISL_402129      China  40    Male     2020-01-18\n",
       "30799  EPI_ISL_402130      China  56    Male     2020-01-18\n",
       "30805  EPI_ISL_421249      China  26    Male     2020-04-07\n",
       "30806  EPI_ISL_421260      China  42  Female     2020-04-07\n",
       "30807  EPI_ISL_429239      China  16  Female     2020-04-23\n",
       "30808  EPI_ISL_408480      China  56    Male     2020-02-09\n",
       "30809  EPI_ISL_422425      China  36    Male     2020-04-10\n",
       "30810  EPI_ISL_404227      China  46    Male     2020-01-21\n",
       "30811  EPI_ISL_404228      China  47    Male     2020-01-21\n",
       "\n",
       "[11044 rows x 5 columns]"
      ]
     },
     "execution_count": 5,
     "metadata": {},
     "output_type": "execute_result"
    }
   ],
   "source": [
    "df = pd.read_csv(\"D:/Workspace/COVID-19-data-linked/metadata_5_24_2020.tsv\", sep=\"\\t\")\n",
    "# Filter by conditions\n",
    "df = df[(df[\"host\"] == 'Human') & (df[\"age\"] != \"?\") & ((df[\"sex\"] == \"Male\") | (df[\"sex\"] == \"Female\"))]\n",
    "# Only want a few columns\n",
    "df = df[['gisaid_epi_isl', \"country\", \"age\", \"sex\", \"date_submitted\"]]\n",
    "# Preview\n",
    "df.to_csv(\"D:/Workspace/COVID-19-data-linked/metadata_5_24_2020_filtered.tsv\", sep=\"\\t\", index=False)\n",
    "df"
   ]
  },
  {
   "cell_type": "markdown",
   "metadata": {},
   "source": [
    "### Convert meta_data to dictionary"
   ]
  },
  {
   "cell_type": "code",
   "execution_count": 6,
   "metadata": {},
   "outputs": [
    {
     "name": "stdout",
     "output_type": "stream",
     "text": [
      "('EPI_ISL_418241', ['Algeria', '28', 'Female', '2020-03-29'])\n",
      "('EPI_ISL_418242', ['Algeria', '87', 'Male', '2020-03-29'])\n",
      "('EPI_ISL_420037', ['Algeria', '41', 'Male', '2020-04-04'])\n",
      "('EPI_ISL_413485', ['China', '58', 'Male', '2020-03-05'])\n",
      "('EPI_ISL_420600', ['Argentina', '51', 'Male', '2020-04-06'])\n",
      "('EPI_ISL_420599', ['Argentina', '47', 'Male', '2020-04-06'])\n",
      "('EPI_ISL_420598', ['Argentina', '73', 'Male', '2020-04-06'])\n",
      "('EPI_ISL_430793', ['Argentina', '40', 'Male', '2020-04-27'])\n",
      "('EPI_ISL_430794', ['Argentina', '40', 'Male', '2020-04-27'])\n",
      "('EPI_ISL_430795', ['Argentina', '57', 'Female', '2020-04-27'])\n",
      "('EPI_ISL_430796', ['Argentina', '30', 'Male', '2020-04-27'])\n"
     ]
    }
   ],
   "source": [
    "meta_data = collections.defaultdict(list)\n",
    "for i, (gisaid, *rest) in df.iterrows():\n",
    "    meta_data[gisaid].extend(rest) \n",
    "    \n",
    "# Example of dataset:\n",
    "for i, val in enumerate(meta_data.items()):\n",
    "    print(val)\n",
    "    if i == 10: break"
   ]
  },
  {
   "cell_type": "markdown",
   "metadata": {},
   "source": [
    "### Filter fasta file based those available in meta_data"
   ]
  },
  {
   "cell_type": "code",
   "execution_count": 7,
   "metadata": {},
   "outputs": [],
   "source": [
    "records = []\n",
    "for i, record in enumerate(SeqIO.parse(\"D:\\Workspace\\COVID-19-data-linked\\gisaid_hcov-19_2020_05_24_18.fasta\", \"fasta\")):\n",
    "    header = record.id.split(\"|\")\n",
    "    if len(header) > 1 and header[1] in meta_data:\n",
    "        records.append(record)"
   ]
  },
  {
   "cell_type": "markdown",
   "metadata": {},
   "source": [
    "### Save new fasta file"
   ]
  },
  {
   "cell_type": "code",
   "execution_count": 8,
   "metadata": {},
   "outputs": [
    {
     "data": {
      "text/plain": [
       "10845"
      ]
     },
     "execution_count": 8,
     "metadata": {},
     "output_type": "execute_result"
    }
   ],
   "source": [
    "SeqIO.write(records, f\"D:/Workspace/COVID-19-data-linked/gisaid_cov2020_sequences_filtered_{len(records)}.fasta\", \"fasta\")"
   ]
  },
  {
   "cell_type": "markdown",
   "metadata": {},
   "source": [
    "# Make trees with correct id"
   ]
  },
  {
   "cell_type": "code",
   "execution_count": 9,
   "metadata": {},
   "outputs": [],
   "source": [
    "records = []\n",
    "for i, record in enumerate(SeqIO.parse(\"D:\\Workspace\\COVID-19-data-linked\\gisaid_cov2020_sequences_filtered_8312.mafft\", \"fasta\")):\n",
    "    record.id = record.id.split(\"|\")[1]\n",
    "    record.description = \"\"\n",
    "    record.name = \"\"\n",
    "    records.append(record)"
   ]
  },
  {
   "cell_type": "code",
   "execution_count": 10,
   "metadata": {},
   "outputs": [
    {
     "data": {
      "text/plain": [
       "8312"
      ]
     },
     "execution_count": 10,
     "metadata": {},
     "output_type": "execute_result"
    }
   ],
   "source": [
    "SeqIO.write(records, f\"D:\\Workspace\\COVID-19-data-linked\\gisaid_cov2020_sequences_filtered_8312_2.mafft\", \"fasta\")"
   ]
  },
  {
   "cell_type": "code",
   "execution_count": null,
   "metadata": {},
   "outputs": [],
   "source": []
  }
 ],
 "metadata": {
  "kernelspec": {
   "display_name": "Python 3.7.3 64-bit",
   "language": "python",
   "name": "python37364bit3ca3215d4e6240698248485fce128d4d"
  },
  "language_info": {
   "codemirror_mode": {
    "name": "ipython",
    "version": 3
   },
   "file_extension": ".py",
   "mimetype": "text/x-python",
   "name": "python",
   "nbconvert_exporter": "python",
   "pygments_lexer": "ipython3",
   "version": "3.7.3"
  }
 },
 "nbformat": 4,
 "nbformat_minor": 4
}
